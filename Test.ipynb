{
  "nbformat": 4,
  "nbformat_minor": 0,
  "metadata": {
    "colab": {
      "provenance": []
    },
    "kernelspec": {
      "name": "python3",
      "display_name": "Python 3"
    },
    "language_info": {
      "name": "python"
    }
  },
  "cells": [
    {
      "cell_type": "code",
      "execution_count": 1,
      "metadata": {
        "colab": {
          "base_uri": "https://localhost:8080/"
        },
        "id": "RojKCqStgdgS",
        "outputId": "b9656cf8-605d-4654-9a59-7181239ce169"
      },
      "outputs": [
        {
          "output_type": "stream",
          "name": "stdout",
          "text": [
            "1/1 [==============================] - 1s 608ms/step\n",
            "Predicted class: malignant\n"
          ]
        }
      ],
      "source": [
        "import tensorflow as tf\n",
        "from tensorflow.keras.preprocessing import image\n",
        "import numpy as np\n",
        "\n",
        "# Load the saved model\n",
        "model = tf.keras.models.load_model('/content/drive/MyDrive/my_model.h5')\n",
        "\n",
        "# Define the path to the custom image\n",
        "custom_image_path = '/content/drive/MyDrive/CT Image/benign.png'  # Replace this with the path to your custom image\n",
        "\n",
        "# Preprocess the image\n",
        "img = image.load_img(custom_image_path, target_size=(224, 224))\n",
        "img_array = image.img_to_array(img)\n",
        "img_array = np.expand_dims(img_array, axis=0)\n",
        "img_array = img_array / 255.  # Rescale pixel values to [0, 1]\n",
        "\n",
        "# Perform inference\n",
        "predictions = model.predict(img_array)\n",
        "\n",
        "# Decode predictions\n",
        "if np.argmax(predictions) == 0:\n",
        "    predicted_class = 'malignant'\n",
        "else:\n",
        "    predicted_class = 'benign'\n",
        "\n",
        "print(\"Predicted class:\", predicted_class)\n"
      ]
    },
    {
      "cell_type": "code",
      "source": [
        "# Run pip freeze and save output to requirements.txt\n",
        "!pip freeze > requirements.txt\n",
        "\n",
        "# Move requirements.txt to Google Drive\n",
        "import shutil\n",
        "shutil.move(\"requirements.txt\", \"/content/drive/MyDrive/requirements.txt\")\n"
      ],
      "metadata": {
        "colab": {
          "base_uri": "https://localhost:8080/",
          "height": 35
        },
        "id": "eb9PBwyyp0M9",
        "outputId": "f114049f-6afe-46a9-b26a-8e1c9065a775"
      },
      "execution_count": 2,
      "outputs": [
        {
          "output_type": "execute_result",
          "data": {
            "text/plain": [
              "'/content/drive/MyDrive/requirements.txt'"
            ],
            "application/vnd.google.colaboratory.intrinsic+json": {
              "type": "string"
            }
          },
          "metadata": {},
          "execution_count": 2
        }
      ]
    }
  ]
}